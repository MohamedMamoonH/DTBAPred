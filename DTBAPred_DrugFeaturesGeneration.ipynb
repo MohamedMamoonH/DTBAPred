{
  "cells": [
    {
      "cell_type": "markdown",
      "metadata": {
        "id": "REl2RANeGN7S"
      },
      "source": [
        "\n",
        "\n",
        "# Calculating molecular descriptors and fingerprints using RDkit and Mordred "
      ],
      "id": "REl2RANeGN7S"
    },
    {
      "cell_type": "code",
      "execution_count": null,
      "metadata": {
        "colab": {
          "base_uri": "https://localhost:8080/"
        },
        "id": "H2LMvAZBGWpc",
        "outputId": "7d5a84c2-75f0-4db6-b507-bb0453e2128c"
      },
      "outputs": [
        {
          "output_type": "stream",
          "name": "stdout",
          "text": [
            "Looking in indexes: https://pypi.org/simple, https://us-python.pkg.dev/colab-wheels/public/simple/\n",
            "Collecting rdkit-pypi\n",
            "  Downloading rdkit_pypi-2022.9.5-cp38-cp38-manylinux_2_17_x86_64.manylinux2014_x86_64.whl (29.4 MB)\n",
            "\u001b[2K     \u001b[90m━━━━━━━━━━━━━━━━━━━━━━━━━━━━━━━━━━━━━━━━\u001b[0m \u001b[32m29.4/29.4 MB\u001b[0m \u001b[31m39.5 MB/s\u001b[0m eta \u001b[36m0:00:00\u001b[0m\n",
            "\u001b[?25hRequirement already satisfied: Pillow in /usr/local/lib/python3.8/dist-packages (from rdkit-pypi) (8.4.0)\n",
            "Requirement already satisfied: numpy in /usr/local/lib/python3.8/dist-packages (from rdkit-pypi) (1.22.4)\n",
            "Installing collected packages: rdkit-pypi\n",
            "Successfully installed rdkit-pypi-2022.9.5\n",
            "Looking in indexes: https://pypi.org/simple, https://us-python.pkg.dev/colab-wheels/public/simple/\n",
            "Collecting mordred\n",
            "  Downloading mordred-1.2.0.tar.gz (128 kB)\n",
            "\u001b[2K     \u001b[90m━━━━━━━━━━━━━━━━━━━━━━━━━━━━━━━━━━━━━\u001b[0m \u001b[32m128.8/128.8 KB\u001b[0m \u001b[31m851.1 kB/s\u001b[0m eta \u001b[36m0:00:00\u001b[0m\n",
            "\u001b[?25h  Preparing metadata (setup.py) ... \u001b[?25l\u001b[?25hdone\n",
            "Requirement already satisfied: six==1.* in /usr/local/lib/python3.8/dist-packages (from mordred) (1.15.0)\n",
            "Requirement already satisfied: numpy==1.* in /usr/local/lib/python3.8/dist-packages (from mordred) (1.22.4)\n",
            "Collecting networkx==2.*\n",
            "  Downloading networkx-2.8.8-py3-none-any.whl (2.0 MB)\n",
            "\u001b[2K     \u001b[90m━━━━━━━━━━━━━━━━━━━━━━━━━━━━━━━━━━━━━━━━\u001b[0m \u001b[32m2.0/2.0 MB\u001b[0m \u001b[31m27.6 MB/s\u001b[0m eta \u001b[36m0:00:00\u001b[0m\n",
            "\u001b[?25hBuilding wheels for collected packages: mordred\n",
            "  Building wheel for mordred (setup.py) ... \u001b[?25l\u001b[?25hdone\n",
            "  Created wheel for mordred: filename=mordred-1.2.0-py3-none-any.whl size=176721 sha256=371a6cf8532983d4efb803a7ba35ebab391641c60a439b0a944daba268871dd6\n",
            "  Stored in directory: /root/.cache/pip/wheels/20/88/41/5d873c9b55dc7479f0b9951c2161d7b09be193e7228ea27309\n",
            "Successfully built mordred\n",
            "Installing collected packages: networkx, mordred\n",
            "  Attempting uninstall: networkx\n",
            "    Found existing installation: networkx 3.0\n",
            "    Uninstalling networkx-3.0:\n",
            "      Successfully uninstalled networkx-3.0\n",
            "Successfully installed mordred-1.2.0 networkx-2.8.8\n"
          ]
        }
      ],
      "source": [
        "!pip install rdkit-pypi"
      ],
      "id": "H2LMvAZBGWpc"
    },
    {
      "cell_type": "code",
      "execution_count": null,
      "metadata": {
        "id": "5QKaKQNzGN7T"
      },
      "outputs": [],
      "source": [
        "\n",
        "from rdkit.Chem import AllChem\n",
        "from rdkit import Chem\n",
        "from rdkit.Chem import Descriptors\n",
        "from rdkit.ML.Descriptors import MoleculeDescriptors\n",
        "import csv\n",
        "import pandas as pd\n",
        "import numpy as np\n",
        "from mordred import Calculator, descriptors"
      ],
      "id": "5QKaKQNzGN7T"
    },
    {
      "cell_type": "code",
      "execution_count": null,
      "metadata": {
        "colab": {
          "base_uri": "https://localhost:8080/"
        },
        "id": "7oxKgpvoG7KW",
        "outputId": "19f0804c-4cb7-40e4-cee3-d8d6ee2b44fe"
      },
      "outputs": [
        {
          "name": "stdout",
          "output_type": "stream",
          "text": [
            "Mounted at /content/drive\n"
          ]
        }
      ],
      "source": [
        "import time\n",
        "from google.colab import drive\n",
        "drive.mount('/content/drive')"
      ],
      "id": "7oxKgpvoG7KW"
    },
    {
      "cell_type": "code",
      "execution_count": null,
      "metadata": {
        "id": "35LAvnwmHD7s"
      },
      "outputs": [],
      "source": [
        "inputs_path = '/content/drive/MyDrive/DTBA/datasets'\n",
        "outputs_path = '/content/drive/MyDrive/DTBA/features'"
      ],
      "id": "35LAvnwmHD7s"
    },
    {
      "cell_type": "code",
      "execution_count": null,
      "metadata": {
        "colab": {
          "base_uri": "https://localhost:8080/"
        },
        "id": "HvtyckkWGN7U",
        "outputId": "19091188-263a-4c28-8bc4-dd52b96672ef"
      },
      "outputs": [
        {
          "data": {
            "text/plain": [
              "(118254, 5)"
            ]
          },
          "execution_count": 5,
          "metadata": {},
          "output_type": "execute_result"
        }
      ],
      "source": [
        "#import Dataset (has to has 'smiles' column name)\n",
        "\n",
        "dataset = pd.read_csv(f'{inputs_path}/KIBA_dta_df_drugs_pkd.csv')\n",
        "dataset.shape"
      ],
      "id": "HvtyckkWGN7U"
    },
    {
      "cell_type": "code",
      "execution_count": null,
      "metadata": {
        "colab": {
          "base_uri": "https://localhost:8080/",
          "height": 268
        },
        "id": "BH4NCEv5GN7U",
        "outputId": "41996763-cdb6-4337-8db7-ba4d97c989ce"
      },
      "outputs": [
        {
          "data": {
            "text/html": [
              "\n",
              "  <div id=\"df-54bed245-6757-4f3b-8e5b-c8531c113179\">\n",
              "    <div class=\"colab-df-container\">\n",
              "      <div>\n",
              "<style scoped>\n",
              "    .dataframe tbody tr th:only-of-type {\n",
              "        vertical-align: middle;\n",
              "    }\n",
              "\n",
              "    .dataframe tbody tr th {\n",
              "        vertical-align: top;\n",
              "    }\n",
              "\n",
              "    .dataframe thead th {\n",
              "        text-align: right;\n",
              "    }\n",
              "</style>\n",
              "<table border=\"1\" class=\"dataframe\">\n",
              "  <thead>\n",
              "    <tr style=\"text-align: right;\">\n",
              "      <th></th>\n",
              "      <th>Chembl-ID</th>\n",
              "      <th>ID</th>\n",
              "      <th>smiles</th>\n",
              "      <th>sequence</th>\n",
              "      <th>kd</th>\n",
              "    </tr>\n",
              "  </thead>\n",
              "  <tbody>\n",
              "    <tr>\n",
              "      <th>0</th>\n",
              "      <td>CHEMBL1087421</td>\n",
              "      <td>O00141</td>\n",
              "      <td>COC1=C(C=C2C(=C1)CCN=C2C3=CC(=C(C=C3)Cl)Cl)Cl</td>\n",
              "      <td>MTVKTEAAKGTLTYSRMRGMVAILIAFMKQRRMGLNDFIQKIANNS...</td>\n",
              "      <td>11.1</td>\n",
              "    </tr>\n",
              "    <tr>\n",
              "      <th>1</th>\n",
              "      <td>CHEMBL1087421</td>\n",
              "      <td>O14920</td>\n",
              "      <td>COC1=C(C=C2C(=C1)CCN=C2C3=CC(=C(C=C3)Cl)Cl)Cl</td>\n",
              "      <td>MSWSPSLTTQTCGAWEMKERLGTGGFGNVIRWHNQETGEQIAIKQC...</td>\n",
              "      <td>11.1</td>\n",
              "    </tr>\n",
              "    <tr>\n",
              "      <th>2</th>\n",
              "      <td>CHEMBL1087421</td>\n",
              "      <td>O15111</td>\n",
              "      <td>COC1=C(C=C2C(=C1)CCN=C2C3=CC(=C(C=C3)Cl)Cl)Cl</td>\n",
              "      <td>MERPPGLRPGAGGPWEMRERLGTGGFGNVCLYQHRELDLKIAIKSC...</td>\n",
              "      <td>11.1</td>\n",
              "    </tr>\n",
              "    <tr>\n",
              "      <th>3</th>\n",
              "      <td>CHEMBL1087421</td>\n",
              "      <td>P00533</td>\n",
              "      <td>COC1=C(C=C2C(=C1)CCN=C2C3=CC(=C(C=C3)Cl)Cl)Cl</td>\n",
              "      <td>MRPSGTAGAALLALLAALCPASRALEEKKVCQGTSNKLTQLGTFED...</td>\n",
              "      <td>11.1</td>\n",
              "    </tr>\n",
              "    <tr>\n",
              "      <th>4</th>\n",
              "      <td>CHEMBL1087421</td>\n",
              "      <td>P04626</td>\n",
              "      <td>COC1=C(C=C2C(=C1)CCN=C2C3=CC(=C(C=C3)Cl)Cl)Cl</td>\n",
              "      <td>MELAALCRWGLLLALLPPGAASTQVCTGTDMKLRLPASPETHLDML...</td>\n",
              "      <td>11.1</td>\n",
              "    </tr>\n",
              "  </tbody>\n",
              "</table>\n",
              "</div>\n",
              "      <button class=\"colab-df-convert\" onclick=\"convertToInteractive('df-54bed245-6757-4f3b-8e5b-c8531c113179')\"\n",
              "              title=\"Convert this dataframe to an interactive table.\"\n",
              "              style=\"display:none;\">\n",
              "        \n",
              "  <svg xmlns=\"http://www.w3.org/2000/svg\" height=\"24px\"viewBox=\"0 0 24 24\"\n",
              "       width=\"24px\">\n",
              "    <path d=\"M0 0h24v24H0V0z\" fill=\"none\"/>\n",
              "    <path d=\"M18.56 5.44l.94 2.06.94-2.06 2.06-.94-2.06-.94-.94-2.06-.94 2.06-2.06.94zm-11 1L8.5 8.5l.94-2.06 2.06-.94-2.06-.94L8.5 2.5l-.94 2.06-2.06.94zm10 10l.94 2.06.94-2.06 2.06-.94-2.06-.94-.94-2.06-.94 2.06-2.06.94z\"/><path d=\"M17.41 7.96l-1.37-1.37c-.4-.4-.92-.59-1.43-.59-.52 0-1.04.2-1.43.59L10.3 9.45l-7.72 7.72c-.78.78-.78 2.05 0 2.83L4 21.41c.39.39.9.59 1.41.59.51 0 1.02-.2 1.41-.59l7.78-7.78 2.81-2.81c.8-.78.8-2.07 0-2.86zM5.41 20L4 18.59l7.72-7.72 1.47 1.35L5.41 20z\"/>\n",
              "  </svg>\n",
              "      </button>\n",
              "      \n",
              "  <style>\n",
              "    .colab-df-container {\n",
              "      display:flex;\n",
              "      flex-wrap:wrap;\n",
              "      gap: 12px;\n",
              "    }\n",
              "\n",
              "    .colab-df-convert {\n",
              "      background-color: #E8F0FE;\n",
              "      border: none;\n",
              "      border-radius: 50%;\n",
              "      cursor: pointer;\n",
              "      display: none;\n",
              "      fill: #1967D2;\n",
              "      height: 32px;\n",
              "      padding: 0 0 0 0;\n",
              "      width: 32px;\n",
              "    }\n",
              "\n",
              "    .colab-df-convert:hover {\n",
              "      background-color: #E2EBFA;\n",
              "      box-shadow: 0px 1px 2px rgba(60, 64, 67, 0.3), 0px 1px 3px 1px rgba(60, 64, 67, 0.15);\n",
              "      fill: #174EA6;\n",
              "    }\n",
              "\n",
              "    [theme=dark] .colab-df-convert {\n",
              "      background-color: #3B4455;\n",
              "      fill: #D2E3FC;\n",
              "    }\n",
              "\n",
              "    [theme=dark] .colab-df-convert:hover {\n",
              "      background-color: #434B5C;\n",
              "      box-shadow: 0px 1px 3px 1px rgba(0, 0, 0, 0.15);\n",
              "      filter: drop-shadow(0px 1px 2px rgba(0, 0, 0, 0.3));\n",
              "      fill: #FFFFFF;\n",
              "    }\n",
              "  </style>\n",
              "\n",
              "      <script>\n",
              "        const buttonEl =\n",
              "          document.querySelector('#df-54bed245-6757-4f3b-8e5b-c8531c113179 button.colab-df-convert');\n",
              "        buttonEl.style.display =\n",
              "          google.colab.kernel.accessAllowed ? 'block' : 'none';\n",
              "\n",
              "        async function convertToInteractive(key) {\n",
              "          const element = document.querySelector('#df-54bed245-6757-4f3b-8e5b-c8531c113179');\n",
              "          const dataTable =\n",
              "            await google.colab.kernel.invokeFunction('convertToInteractive',\n",
              "                                                     [key], {});\n",
              "          if (!dataTable) return;\n",
              "\n",
              "          const docLinkHtml = 'Like what you see? Visit the ' +\n",
              "            '<a target=\"_blank\" href=https://colab.research.google.com/notebooks/data_table.ipynb>data table notebook</a>'\n",
              "            + ' to learn more about interactive tables.';\n",
              "          element.innerHTML = '';\n",
              "          dataTable['output_type'] = 'display_data';\n",
              "          await google.colab.output.renderOutput(dataTable, element);\n",
              "          const docLink = document.createElement('div');\n",
              "          docLink.innerHTML = docLinkHtml;\n",
              "          element.appendChild(docLink);\n",
              "        }\n",
              "      </script>\n",
              "    </div>\n",
              "  </div>\n",
              "  "
            ],
            "text/plain": [
              "       Chembl-ID      ID                                         smiles  \\\n",
              "0  CHEMBL1087421  O00141  COC1=C(C=C2C(=C1)CCN=C2C3=CC(=C(C=C3)Cl)Cl)Cl   \n",
              "1  CHEMBL1087421  O14920  COC1=C(C=C2C(=C1)CCN=C2C3=CC(=C(C=C3)Cl)Cl)Cl   \n",
              "2  CHEMBL1087421  O15111  COC1=C(C=C2C(=C1)CCN=C2C3=CC(=C(C=C3)Cl)Cl)Cl   \n",
              "3  CHEMBL1087421  P00533  COC1=C(C=C2C(=C1)CCN=C2C3=CC(=C(C=C3)Cl)Cl)Cl   \n",
              "4  CHEMBL1087421  P04626  COC1=C(C=C2C(=C1)CCN=C2C3=CC(=C(C=C3)Cl)Cl)Cl   \n",
              "\n",
              "                                            sequence    kd  \n",
              "0  MTVKTEAAKGTLTYSRMRGMVAILIAFMKQRRMGLNDFIQKIANNS...  11.1  \n",
              "1  MSWSPSLTTQTCGAWEMKERLGTGGFGNVIRWHNQETGEQIAIKQC...  11.1  \n",
              "2  MERPPGLRPGAGGPWEMRERLGTGGFGNVCLYQHRELDLKIAIKSC...  11.1  \n",
              "3  MRPSGTAGAALLALLAALCPASRALEEKKVCQGTSNKLTQLGTFED...  11.1  \n",
              "4  MELAALCRWGLLLALLPPGAASTQVCTGTDMKLRLPASPETHLDML...  11.1  "
            ]
          },
          "execution_count": 6,
          "metadata": {},
          "output_type": "execute_result"
        }
      ],
      "source": [
        "dataset.head()"
      ],
      "id": "BH4NCEv5GN7U"
    },
    {
      "cell_type": "markdown",
      "metadata": {
        "id": "_5BvScqxGN7U"
      },
      "source": [
        "## 1. Generate canonical SMILES"
      ],
      "id": "_5BvScqxGN7U"
    },
    {
      "cell_type": "code",
      "execution_count": null,
      "metadata": {
        "id": "I16JLREkGN7U"
      },
      "outputs": [],
      "source": [
        "def canonical_smiles(smiles):\n",
        "    mols = [Chem.MolFromSmiles(smi) for smi in smiles] \n",
        "    smiles = [Chem.MolToSmiles(mol) for mol in mols]\n",
        "    return smiles"
      ],
      "id": "I16JLREkGN7U"
    },
    {
      "cell_type": "code",
      "execution_count": null,
      "metadata": {
        "colab": {
          "base_uri": "https://localhost:8080/"
        },
        "id": "F1rEcEO6GN7V",
        "outputId": "036e8bf2-c0c3-4549-9b1e-025a1dcc9513"
      },
      "outputs": [
        {
          "data": {
            "text/plain": [
              "118254"
            ]
          },
          "execution_count": 8,
          "metadata": {},
          "output_type": "execute_result"
        }
      ],
      "source": [
        "# Canonical SMILES\n",
        "Canon_SMILES = canonical_smiles(dataset.smiles)\n",
        "len(Canon_SMILES)"
      ],
      "id": "F1rEcEO6GN7V"
    },
    {
      "cell_type": "code",
      "execution_count": null,
      "metadata": {
        "colab": {
          "base_uri": "https://localhost:8080/",
          "height": 483
        },
        "id": "G5kFafFmGN7V",
        "outputId": "9c417b08-871d-4c1e-85bc-a4b0353abdb1"
      },
      "outputs": [
        {
          "data": {
            "text/html": [
              "\n",
              "  <div id=\"df-a17ea187-5ea6-45cd-b00c-d7904a6bab70\">\n",
              "    <div class=\"colab-df-container\">\n",
              "      <div>\n",
              "<style scoped>\n",
              "    .dataframe tbody tr th:only-of-type {\n",
              "        vertical-align: middle;\n",
              "    }\n",
              "\n",
              "    .dataframe tbody tr th {\n",
              "        vertical-align: top;\n",
              "    }\n",
              "\n",
              "    .dataframe thead th {\n",
              "        text-align: right;\n",
              "    }\n",
              "</style>\n",
              "<table border=\"1\" class=\"dataframe\">\n",
              "  <thead>\n",
              "    <tr style=\"text-align: right;\">\n",
              "      <th></th>\n",
              "      <th>Chembl-ID</th>\n",
              "      <th>ID</th>\n",
              "      <th>smiles</th>\n",
              "      <th>sequence</th>\n",
              "      <th>kd</th>\n",
              "    </tr>\n",
              "  </thead>\n",
              "  <tbody>\n",
              "    <tr>\n",
              "      <th>0</th>\n",
              "      <td>CHEMBL1087421</td>\n",
              "      <td>O00141</td>\n",
              "      <td>COc1cc2c(cc1Cl)C(c1ccc(Cl)c(Cl)c1)=NCC2</td>\n",
              "      <td>MTVKTEAAKGTLTYSRMRGMVAILIAFMKQRRMGLNDFIQKIANNS...</td>\n",
              "      <td>11.10000</td>\n",
              "    </tr>\n",
              "    <tr>\n",
              "      <th>1</th>\n",
              "      <td>CHEMBL1087421</td>\n",
              "      <td>O14920</td>\n",
              "      <td>COc1cc2c(cc1Cl)C(c1ccc(Cl)c(Cl)c1)=NCC2</td>\n",
              "      <td>MSWSPSLTTQTCGAWEMKERLGTGGFGNVIRWHNQETGEQIAIKQC...</td>\n",
              "      <td>11.10000</td>\n",
              "    </tr>\n",
              "    <tr>\n",
              "      <th>2</th>\n",
              "      <td>CHEMBL1087421</td>\n",
              "      <td>O15111</td>\n",
              "      <td>COc1cc2c(cc1Cl)C(c1ccc(Cl)c(Cl)c1)=NCC2</td>\n",
              "      <td>MERPPGLRPGAGGPWEMRERLGTGGFGNVCLYQHRELDLKIAIKSC...</td>\n",
              "      <td>11.10000</td>\n",
              "    </tr>\n",
              "    <tr>\n",
              "      <th>3</th>\n",
              "      <td>CHEMBL1087421</td>\n",
              "      <td>P00533</td>\n",
              "      <td>COc1cc2c(cc1Cl)C(c1ccc(Cl)c(Cl)c1)=NCC2</td>\n",
              "      <td>MRPSGTAGAALLALLAALCPASRALEEKKVCQGTSNKLTQLGTFED...</td>\n",
              "      <td>11.10000</td>\n",
              "    </tr>\n",
              "    <tr>\n",
              "      <th>4</th>\n",
              "      <td>CHEMBL1087421</td>\n",
              "      <td>P04626</td>\n",
              "      <td>COc1cc2c(cc1Cl)C(c1ccc(Cl)c(Cl)c1)=NCC2</td>\n",
              "      <td>MELAALCRWGLLLALLPPGAASTQVCTGTDMKLRLPASPETHLDML...</td>\n",
              "      <td>11.10000</td>\n",
              "    </tr>\n",
              "    <tr>\n",
              "      <th>...</th>\n",
              "      <td>...</td>\n",
              "      <td>...</td>\n",
              "      <td>...</td>\n",
              "      <td>...</td>\n",
              "      <td>...</td>\n",
              "    </tr>\n",
              "    <tr>\n",
              "      <th>118249</th>\n",
              "      <td>CHEMBL230654</td>\n",
              "      <td>Q13554</td>\n",
              "      <td>CCCc1nc[nH]c1CNc1cc(Cl)c2ncc(C#N)c(Nc3ccc(F)c(...</td>\n",
              "      <td>MATTVTCTRFTDEYQLYEDIGKGAFSVVRRCVKLCTGHEYAAKIIN...</td>\n",
              "      <td>10.49794</td>\n",
              "    </tr>\n",
              "    <tr>\n",
              "      <th>118250</th>\n",
              "      <td>CHEMBL230654</td>\n",
              "      <td>Q13555</td>\n",
              "      <td>CCCc1nc[nH]c1CNc1cc(Cl)c2ncc(C#N)c(Nc3ccc(F)c(...</td>\n",
              "      <td>MATTATCTRFTDDYQLFEELGKGAFSVVRRCVKKTSTQEYAAKIIN...</td>\n",
              "      <td>10.49794</td>\n",
              "    </tr>\n",
              "    <tr>\n",
              "      <th>118251</th>\n",
              "      <td>CHEMBL230654</td>\n",
              "      <td>Q13557</td>\n",
              "      <td>CCCc1nc[nH]c1CNc1cc(Cl)c2ncc(C#N)c(Nc3ccc(F)c(...</td>\n",
              "      <td>MASTTTCTRFTDEYQLFEELGKGAFSVVRRCMKIPTGQEYAAKIIN...</td>\n",
              "      <td>10.49794</td>\n",
              "    </tr>\n",
              "    <tr>\n",
              "      <th>118252</th>\n",
              "      <td>CHEMBL230654</td>\n",
              "      <td>Q16539</td>\n",
              "      <td>CCCc1nc[nH]c1CNc1cc(Cl)c2ncc(C#N)c(Nc3ccc(F)c(...</td>\n",
              "      <td>MSQERPTFYRQELNKTIWEVPERYQNLSPVGSGAYGSVCAAFDTKT...</td>\n",
              "      <td>10.49794</td>\n",
              "    </tr>\n",
              "    <tr>\n",
              "      <th>118253</th>\n",
              "      <td>CHEMBL230654</td>\n",
              "      <td>Q9UQM7</td>\n",
              "      <td>CCCc1nc[nH]c1CNc1cc(Cl)c2ncc(C#N)c(Nc3ccc(F)c(...</td>\n",
              "      <td>MATITCTRFTEEYQLFEELGKGAFSVVRRCVKVLAGQEYAAKIINT...</td>\n",
              "      <td>10.49794</td>\n",
              "    </tr>\n",
              "  </tbody>\n",
              "</table>\n",
              "<p>118254 rows × 5 columns</p>\n",
              "</div>\n",
              "      <button class=\"colab-df-convert\" onclick=\"convertToInteractive('df-a17ea187-5ea6-45cd-b00c-d7904a6bab70')\"\n",
              "              title=\"Convert this dataframe to an interactive table.\"\n",
              "              style=\"display:none;\">\n",
              "        \n",
              "  <svg xmlns=\"http://www.w3.org/2000/svg\" height=\"24px\"viewBox=\"0 0 24 24\"\n",
              "       width=\"24px\">\n",
              "    <path d=\"M0 0h24v24H0V0z\" fill=\"none\"/>\n",
              "    <path d=\"M18.56 5.44l.94 2.06.94-2.06 2.06-.94-2.06-.94-.94-2.06-.94 2.06-2.06.94zm-11 1L8.5 8.5l.94-2.06 2.06-.94-2.06-.94L8.5 2.5l-.94 2.06-2.06.94zm10 10l.94 2.06.94-2.06 2.06-.94-2.06-.94-.94-2.06-.94 2.06-2.06.94z\"/><path d=\"M17.41 7.96l-1.37-1.37c-.4-.4-.92-.59-1.43-.59-.52 0-1.04.2-1.43.59L10.3 9.45l-7.72 7.72c-.78.78-.78 2.05 0 2.83L4 21.41c.39.39.9.59 1.41.59.51 0 1.02-.2 1.41-.59l7.78-7.78 2.81-2.81c.8-.78.8-2.07 0-2.86zM5.41 20L4 18.59l7.72-7.72 1.47 1.35L5.41 20z\"/>\n",
              "  </svg>\n",
              "      </button>\n",
              "      \n",
              "  <style>\n",
              "    .colab-df-container {\n",
              "      display:flex;\n",
              "      flex-wrap:wrap;\n",
              "      gap: 12px;\n",
              "    }\n",
              "\n",
              "    .colab-df-convert {\n",
              "      background-color: #E8F0FE;\n",
              "      border: none;\n",
              "      border-radius: 50%;\n",
              "      cursor: pointer;\n",
              "      display: none;\n",
              "      fill: #1967D2;\n",
              "      height: 32px;\n",
              "      padding: 0 0 0 0;\n",
              "      width: 32px;\n",
              "    }\n",
              "\n",
              "    .colab-df-convert:hover {\n",
              "      background-color: #E2EBFA;\n",
              "      box-shadow: 0px 1px 2px rgba(60, 64, 67, 0.3), 0px 1px 3px 1px rgba(60, 64, 67, 0.15);\n",
              "      fill: #174EA6;\n",
              "    }\n",
              "\n",
              "    [theme=dark] .colab-df-convert {\n",
              "      background-color: #3B4455;\n",
              "      fill: #D2E3FC;\n",
              "    }\n",
              "\n",
              "    [theme=dark] .colab-df-convert:hover {\n",
              "      background-color: #434B5C;\n",
              "      box-shadow: 0px 1px 3px 1px rgba(0, 0, 0, 0.15);\n",
              "      filter: drop-shadow(0px 1px 2px rgba(0, 0, 0, 0.3));\n",
              "      fill: #FFFFFF;\n",
              "    }\n",
              "  </style>\n",
              "\n",
              "      <script>\n",
              "        const buttonEl =\n",
              "          document.querySelector('#df-a17ea187-5ea6-45cd-b00c-d7904a6bab70 button.colab-df-convert');\n",
              "        buttonEl.style.display =\n",
              "          google.colab.kernel.accessAllowed ? 'block' : 'none';\n",
              "\n",
              "        async function convertToInteractive(key) {\n",
              "          const element = document.querySelector('#df-a17ea187-5ea6-45cd-b00c-d7904a6bab70');\n",
              "          const dataTable =\n",
              "            await google.colab.kernel.invokeFunction('convertToInteractive',\n",
              "                                                     [key], {});\n",
              "          if (!dataTable) return;\n",
              "\n",
              "          const docLinkHtml = 'Like what you see? Visit the ' +\n",
              "            '<a target=\"_blank\" href=https://colab.research.google.com/notebooks/data_table.ipynb>data table notebook</a>'\n",
              "            + ' to learn more about interactive tables.';\n",
              "          element.innerHTML = '';\n",
              "          dataTable['output_type'] = 'display_data';\n",
              "          await google.colab.output.renderOutput(dataTable, element);\n",
              "          const docLink = document.createElement('div');\n",
              "          docLink.innerHTML = docLinkHtml;\n",
              "          element.appendChild(docLink);\n",
              "        }\n",
              "      </script>\n",
              "    </div>\n",
              "  </div>\n",
              "  "
            ],
            "text/plain": [
              "            Chembl-ID      ID  \\\n",
              "0       CHEMBL1087421  O00141   \n",
              "1       CHEMBL1087421  O14920   \n",
              "2       CHEMBL1087421  O15111   \n",
              "3       CHEMBL1087421  P00533   \n",
              "4       CHEMBL1087421  P04626   \n",
              "...               ...     ...   \n",
              "118249   CHEMBL230654  Q13554   \n",
              "118250   CHEMBL230654  Q13555   \n",
              "118251   CHEMBL230654  Q13557   \n",
              "118252   CHEMBL230654  Q16539   \n",
              "118253   CHEMBL230654  Q9UQM7   \n",
              "\n",
              "                                                   smiles  \\\n",
              "0                 COc1cc2c(cc1Cl)C(c1ccc(Cl)c(Cl)c1)=NCC2   \n",
              "1                 COc1cc2c(cc1Cl)C(c1ccc(Cl)c(Cl)c1)=NCC2   \n",
              "2                 COc1cc2c(cc1Cl)C(c1ccc(Cl)c(Cl)c1)=NCC2   \n",
              "3                 COc1cc2c(cc1Cl)C(c1ccc(Cl)c(Cl)c1)=NCC2   \n",
              "4                 COc1cc2c(cc1Cl)C(c1ccc(Cl)c(Cl)c1)=NCC2   \n",
              "...                                                   ...   \n",
              "118249  CCCc1nc[nH]c1CNc1cc(Cl)c2ncc(C#N)c(Nc3ccc(F)c(...   \n",
              "118250  CCCc1nc[nH]c1CNc1cc(Cl)c2ncc(C#N)c(Nc3ccc(F)c(...   \n",
              "118251  CCCc1nc[nH]c1CNc1cc(Cl)c2ncc(C#N)c(Nc3ccc(F)c(...   \n",
              "118252  CCCc1nc[nH]c1CNc1cc(Cl)c2ncc(C#N)c(Nc3ccc(F)c(...   \n",
              "118253  CCCc1nc[nH]c1CNc1cc(Cl)c2ncc(C#N)c(Nc3ccc(F)c(...   \n",
              "\n",
              "                                                 sequence        kd  \n",
              "0       MTVKTEAAKGTLTYSRMRGMVAILIAFMKQRRMGLNDFIQKIANNS...  11.10000  \n",
              "1       MSWSPSLTTQTCGAWEMKERLGTGGFGNVIRWHNQETGEQIAIKQC...  11.10000  \n",
              "2       MERPPGLRPGAGGPWEMRERLGTGGFGNVCLYQHRELDLKIAIKSC...  11.10000  \n",
              "3       MRPSGTAGAALLALLAALCPASRALEEKKVCQGTSNKLTQLGTFED...  11.10000  \n",
              "4       MELAALCRWGLLLALLPPGAASTQVCTGTDMKLRLPASPETHLDML...  11.10000  \n",
              "...                                                   ...       ...  \n",
              "118249  MATTVTCTRFTDEYQLYEDIGKGAFSVVRRCVKLCTGHEYAAKIIN...  10.49794  \n",
              "118250  MATTATCTRFTDDYQLFEELGKGAFSVVRRCVKKTSTQEYAAKIIN...  10.49794  \n",
              "118251  MASTTTCTRFTDEYQLFEELGKGAFSVVRRCMKIPTGQEYAAKIIN...  10.49794  \n",
              "118252  MSQERPTFYRQELNKTIWEVPERYQNLSPVGSGAYGSVCAAFDTKT...  10.49794  \n",
              "118253  MATITCTRFTEEYQLFEELGKGAFSVVRRCVKVLAGQEYAAKIINT...  10.49794  \n",
              "\n",
              "[118254 rows x 5 columns]"
            ]
          },
          "execution_count": 9,
          "metadata": {},
          "output_type": "execute_result"
        }
      ],
      "source": [
        "# Put the smiles in the dataframe\n",
        "dataset['smiles'] = Canon_SMILES\n",
        "dataset"
      ],
      "id": "G5kFafFmGN7V"
    },
    {
      "cell_type": "markdown",
      "metadata": {
        "id": "xBuGdg9mGN7W"
      },
      "source": [
        "## Calculate descriptors using RDkit"
      ],
      "id": "xBuGdg9mGN7W"
    },
    {
      "cell_type": "markdown",
      "metadata": {
        "id": "fIDylotoGN7W"
      },
      "source": [
        "### a. Molecular descriptors"
      ],
      "id": "fIDylotoGN7W"
    },
    {
      "cell_type": "code",
      "execution_count": null,
      "metadata": {
        "colab": {
          "background_save": true
        },
        "id": "uS5_dHCvGN7W"
      },
      "outputs": [],
      "source": [
        "def RDkit_descriptors(smiles):\n",
        "    mols = [Chem.MolFromSmiles(i) for i in smiles] \n",
        "    calc = MoleculeDescriptors.MolecularDescriptorCalculator([x[0] for x in Descriptors._descList])\n",
        "    desc_names = calc.GetDescriptorNames()\n",
        "    \n",
        "    Mol_descriptors =[]\n",
        "    for mol in mols:\n",
        "        # add hydrogens to molecules\n",
        "        mol=Chem.AddHs(mol)\n",
        "        # Calculate all 200 descriptors for each molecule\n",
        "        descriptors = calc.CalcDescriptors(mol)\n",
        "        Mol_descriptors.append(descriptors)\n",
        "    return Mol_descriptors,desc_names \n",
        "\n",
        "# Function call\n",
        "Mol_descriptors,desc_names = RDkit_descriptors(dataset['smiles'])"
      ],
      "id": "uS5_dHCvGN7W"
    },
    {
      "cell_type": "code",
      "execution_count": null,
      "metadata": {
        "colab": {
          "background_save": true
        },
        "id": "6XE4on1MGN7X"
      },
      "outputs": [],
      "source": [
        "df_with_200_descriptors = pd.DataFrame(Mol_descriptors,columns=desc_names)\n",
        "df_with_200_descriptors.to_csv (r'/content/sample_data/DAVIS_dta_df_drugs_pkd_descriptors.csv', index = True, header=True)"
      ],
      "id": "6XE4on1MGN7X"
    },
    {
      "cell_type": "markdown",
      "metadata": {
        "id": "0Zy4Hh8yGN7X"
      },
      "source": [
        "### b. Fingerprints"
      ],
      "id": "0Zy4Hh8yGN7X"
    },
    {
      "cell_type": "code",
      "execution_count": null,
      "metadata": {
        "colab": {
          "background_save": true
        },
        "id": "i_7-gRpWGN7X"
      },
      "outputs": [],
      "source": [
        "# fpts size can be adjusted to 1024 to avoid too 0s.\n",
        "def morgan_fpts(data):\n",
        "    Morgan_fpts = []\n",
        "    for i in data:\n",
        "        mol = Chem.MolFromSmiles(i) \n",
        "        fpts =  AllChem.GetMorganFingerprintAsBitVect(mol,2,64)\n",
        "        mfpts = np.array(fpts)\n",
        "        Morgan_fpts.append(mfpts)  \n",
        "    return np.array(Morgan_fpts)"
      ],
      "id": "i_7-gRpWGN7X"
    },
    {
      "cell_type": "code",
      "execution_count": null,
      "metadata": {
        "id": "OPQ8NkjpGN7X"
      },
      "outputs": [],
      "source": [
        "Morgan_fpts = morgan_fpts(dataset['smiles'])\n",
        "Morgan_fpts.shape"
      ],
      "id": "OPQ8NkjpGN7X"
    },
    {
      "cell_type": "code",
      "execution_count": null,
      "metadata": {
        "id": "yHYbYGUKGN7X"
      },
      "outputs": [],
      "source": [
        "Morgan_fingerprints = pd.DataFrame(Morgan_fpts,columns=['Col_{}'.format(i) for i in range(Morgan_fpts.shape[1])])\n",
        "Morgan_fingerprints.to_csv (r'/content/sample_data/DAVIS_dta_df_drugs_pkd_morganfingerprints.csv', index = True, header=True)\n",
        "Morgan_fingerprints"
      ],
      "id": "yHYbYGUKGN7X"
    },
    {
      "cell_type": "code",
      "source": [
        "#Sources:\n",
        "# RDKit Docu.: https://www.rdkit.org/docs/\n",
        "# Tutorial: https://www.youtube.com/watch?v=9i9SY6Nd1Zw"
      ],
      "metadata": {
        "id": "b_1U_OV0DO4h"
      },
      "id": "b_1U_OV0DO4h",
      "execution_count": 2,
      "outputs": []
    },
    {
      "cell_type": "code",
      "source": [],
      "metadata": {
        "id": "Nd95E9wPDP2a"
      },
      "id": "Nd95E9wPDP2a",
      "execution_count": null,
      "outputs": []
    }
  ],
  "metadata": {
    "colab": {
      "provenance": []
    },
    "kernelspec": {
      "display_name": "Python 3",
      "language": "python",
      "name": "python3"
    },
    "language_info": {
      "codemirror_mode": {
        "name": "ipython",
        "version": 3
      },
      "file_extension": ".py",
      "mimetype": "text/x-python",
      "name": "python",
      "nbconvert_exporter": "python",
      "pygments_lexer": "ipython3",
      "version": "3.8.5"
    }
  },
  "nbformat": 4,
  "nbformat_minor": 5
}